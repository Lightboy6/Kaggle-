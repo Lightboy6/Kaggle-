{
 "cells": [
  {
   "cell_type": "markdown",
   "id": "e30f5285",
   "metadata": {
    "papermill": {
     "duration": 0.010805,
     "end_time": "2022-05-25T21:37:44.458138",
     "exception": false,
     "start_time": "2022-05-25T21:37:44.447333",
     "status": "completed"
    },
    "tags": []
   },
   "source": [
    "**This notebook is an exercise in the [Intro to Programming](https://www.kaggle.com/learn/intro-to-programming) course.  You can reference the tutorial at [this link](https://www.kaggle.com/alexisbcook/functions).**\n",
    "\n",
    "---\n"
   ]
  },
  {
   "cell_type": "markdown",
   "id": "22d09a17",
   "metadata": {
    "papermill": {
     "duration": 0.007638,
     "end_time": "2022-05-25T21:37:44.473406",
     "exception": false,
     "start_time": "2022-05-25T21:37:44.465768",
     "status": "completed"
    },
    "tags": []
   },
   "source": [
    "In the tutorial, you learned about functions. In this exercise, you'll write some of your own!\n",
    "\n",
    "# Set up the notebook\n",
    "\n",
    "Run the next code cell without changes to set up the notebook."
   ]
  },
  {
   "cell_type": "code",
   "execution_count": 1,
   "id": "22f8f9e7",
   "metadata": {
    "execution": {
     "iopub.execute_input": "2022-05-25T21:37:44.490749Z",
     "iopub.status.busy": "2022-05-25T21:37:44.490176Z",
     "iopub.status.idle": "2022-05-25T21:37:44.533746Z",
     "shell.execute_reply": "2022-05-25T21:37:44.532943Z"
    },
    "papermill": {
     "duration": 0.054851,
     "end_time": "2022-05-25T21:37:44.535949",
     "exception": false,
     "start_time": "2022-05-25T21:37:44.481098",
     "status": "completed"
    },
    "tags": []
   },
   "outputs": [
    {
     "name": "stdout",
     "output_type": "stream",
     "text": [
      "Setup complete.\n"
     ]
    }
   ],
   "source": [
    "# Set up the exercise\n",
    "import math\n",
    "from learntools.core import binder\n",
    "binder.bind(globals())\n",
    "from learntools.intro_to_programming.ex2 import *\n",
    "print('Setup complete.')"
   ]
  },
  {
   "cell_type": "markdown",
   "id": "6f43946b",
   "metadata": {
    "papermill": {
     "duration": 0.007405,
     "end_time": "2022-05-25T21:37:44.551144",
     "exception": false,
     "start_time": "2022-05-25T21:37:44.543739",
     "status": "completed"
    },
    "tags": []
   },
   "source": [
    "# Question 1\n",
    "\n",
    "In the [House Prices - Advanced Regression Techniques competition](https://www.kaggle.com/c/house-prices-advanced-regression-techniques/overview), you need to use information like the number of bedrooms and bathrooms to predict the price of a house.  Inspired by this competition, you'll write your own function to do this.\n",
    "\n",
    "In the next code cell, create a function `get_expected_cost()` that has two arguments:\n",
    "- `beds` - number of bedrooms \n",
    "- `baths` - number of bathrooms\n",
    "\n",
    "It should return the expected cost of a house with that number of bedrooms and bathrooms.  Assume that:\n",
    "- the expected cost for a house with 0 bedrooms and 0 bathrooms is `80000`.  \n",
    "- each bedroom adds `30000` to the expected cost\n",
    "- each bathroom adds `10000` to the expected cost.\n",
    "\n",
    "For instance, \n",
    "- a house with 1 bedroom and 1 bathroom has an expected cost of `120000`, and \n",
    "- a house with 2 bedrooms and 1 bathroom has an expected cost of `150000`."
   ]
  },
  {
   "cell_type": "code",
   "execution_count": 2,
   "id": "6a46b0d4",
   "metadata": {
    "execution": {
     "iopub.execute_input": "2022-05-25T21:37:44.567691Z",
     "iopub.status.busy": "2022-05-25T21:37:44.567387Z",
     "iopub.status.idle": "2022-05-25T21:37:44.577820Z",
     "shell.execute_reply": "2022-05-25T21:37:44.577139Z"
    },
    "papermill": {
     "duration": 0.02082,
     "end_time": "2022-05-25T21:37:44.579620",
     "exception": false,
     "start_time": "2022-05-25T21:37:44.558800",
     "status": "completed"
    },
    "tags": []
   },
   "outputs": [
    {
     "data": {
      "application/javascript": [
       "parent.postMessage({\"jupyterEvent\": \"custom.exercise_interaction\", \"data\": {\"outcomeType\": 1, \"valueTowardsCompletion\": 0.2, \"interactionType\": 1, \"questionType\": 2, \"questionId\": \"1_GetExpectedCost\", \"learnToolsVersion\": \"0.3.4\", \"failureMessage\": \"\", \"exceptionClass\": \"\", \"trace\": \"\"}}, \"*\")"
      ],
      "text/plain": [
       "<IPython.core.display.Javascript object>"
      ]
     },
     "metadata": {},
     "output_type": "display_data"
    },
    {
     "data": {
      "text/markdown": [
       "<span style=\"color:#33cc33\">Correct</span>"
      ],
      "text/plain": [
       "Correct"
      ]
     },
     "metadata": {},
     "output_type": "display_data"
    }
   ],
   "source": [
    "# TODO: Complete the function\n",
    "def get_expected_cost(beds, baths):\n",
    "    value =  80000 + 30000 * beds + 10000 * baths\n",
    "\n",
    "    return value\n",
    "\n",
    "# Check your answer \n",
    "q1.check()"
   ]
  },
  {
   "cell_type": "code",
   "execution_count": 3,
   "id": "531fb993",
   "metadata": {
    "execution": {
     "iopub.execute_input": "2022-05-25T21:37:44.596419Z",
     "iopub.status.busy": "2022-05-25T21:37:44.596018Z",
     "iopub.status.idle": "2022-05-25T21:37:44.600378Z",
     "shell.execute_reply": "2022-05-25T21:37:44.599504Z"
    },
    "papermill": {
     "duration": 0.014953,
     "end_time": "2022-05-25T21:37:44.602190",
     "exception": false,
     "start_time": "2022-05-25T21:37:44.587237",
     "status": "completed"
    },
    "tags": []
   },
   "outputs": [],
   "source": [
    "# Uncomment to see a hint\n",
    "#q1.hint()\n",
    "\n",
    "# Uncomment to view the solution\n",
    "#q1.solution()"
   ]
  },
  {
   "cell_type": "markdown",
   "id": "e34b578a",
   "metadata": {
    "papermill": {
     "duration": 0.007985,
     "end_time": "2022-05-25T21:37:44.618245",
     "exception": false,
     "start_time": "2022-05-25T21:37:44.610260",
     "status": "completed"
    },
    "tags": []
   },
   "source": [
    "# Question 2\n",
    "\n",
    "You are thinking about buying a home and want to get an idea of how much you will spend, based on the number of bedrooms and bathrooms.  You are trying to decide between four different options:\n",
    "- Option 1: house with two bedrooms and three bathrooms\n",
    "- Option 2: house with three bedrooms and two bathrooms\n",
    "- Option 3: house with three bedrooms and three bathrooms\n",
    "- Option 4: house with three bedrooms and four bathrooms\n",
    "\n",
    "Use the `get_expected_cost()` function you defined in question 1 to set `option_1`, `option_2`, `option_3`, and `option_4` to the expected cost of each option."
   ]
  },
  {
   "cell_type": "code",
   "execution_count": 4,
   "id": "e2fc4218",
   "metadata": {
    "execution": {
     "iopub.execute_input": "2022-05-25T21:37:44.636201Z",
     "iopub.status.busy": "2022-05-25T21:37:44.635588Z",
     "iopub.status.idle": "2022-05-25T21:37:44.646924Z",
     "shell.execute_reply": "2022-05-25T21:37:44.645594Z"
    },
    "papermill": {
     "duration": 0.023015,
     "end_time": "2022-05-25T21:37:44.649109",
     "exception": false,
     "start_time": "2022-05-25T21:37:44.626094",
     "status": "completed"
    },
    "tags": []
   },
   "outputs": [
    {
     "name": "stdout",
     "output_type": "stream",
     "text": [
      "170000\n",
      "190000\n",
      "200000\n",
      "210000\n"
     ]
    },
    {
     "data": {
      "application/javascript": [
       "parent.postMessage({\"jupyterEvent\": \"custom.exercise_interaction\", \"data\": {\"outcomeType\": 1, \"valueTowardsCompletion\": 0.2, \"interactionType\": 1, \"questionType\": 1, \"questionId\": \"2_RunGetExpectedCost\", \"learnToolsVersion\": \"0.3.4\", \"failureMessage\": \"\", \"exceptionClass\": \"\", \"trace\": \"\"}}, \"*\")"
      ],
      "text/plain": [
       "<IPython.core.display.Javascript object>"
      ]
     },
     "metadata": {},
     "output_type": "display_data"
    },
    {
     "data": {
      "text/markdown": [
       "<span style=\"color:#33cc33\">Correct</span>"
      ],
      "text/plain": [
       "Correct"
      ]
     },
     "metadata": {},
     "output_type": "display_data"
    }
   ],
   "source": [
    "# TODO: Use the get_expected_cost function to fill in each value\n",
    "option_one = get_expected_cost(2, 3)\n",
    "option_two =get_expected_cost(3, 2)\n",
    "option_three = get_expected_cost(3, 3)\n",
    "option_four = get_expected_cost(3, 4)\n",
    "\n",
    "print(option_one)\n",
    "print(option_two)\n",
    "print(option_three)\n",
    "print(option_four)\n",
    "\n",
    "# Check your answer\n",
    "q2.check()"
   ]
  },
  {
   "cell_type": "code",
   "execution_count": 5,
   "id": "9dc850cd",
   "metadata": {
    "execution": {
     "iopub.execute_input": "2022-05-25T21:37:44.667511Z",
     "iopub.status.busy": "2022-05-25T21:37:44.667144Z",
     "iopub.status.idle": "2022-05-25T21:37:44.671704Z",
     "shell.execute_reply": "2022-05-25T21:37:44.670548Z"
    },
    "papermill": {
     "duration": 0.016517,
     "end_time": "2022-05-25T21:37:44.674060",
     "exception": false,
     "start_time": "2022-05-25T21:37:44.657543",
     "status": "completed"
    },
    "tags": []
   },
   "outputs": [],
   "source": [
    "# Uncomment to see a hint\n",
    "#q2.hint()\n",
    "\n",
    "# Uncomment to view the solution\n",
    "#q2.solution()"
   ]
  },
  {
   "cell_type": "markdown",
   "id": "54072267",
   "metadata": {
    "papermill": {
     "duration": 0.008211,
     "end_time": "2022-05-25T21:37:44.691169",
     "exception": false,
     "start_time": "2022-05-25T21:37:44.682958",
     "status": "completed"
    },
    "tags": []
   },
   "source": [
    "# Question 3\n",
    "\n",
    "You're a home decorator, and you'd like to use Python to streamline some of your work.  Specifically, you're creating a tool that you intend to use to calculate the cost of painting a room.\n",
    "\n",
    "As a first step, define a function `get_cost()` that takes as input:\n",
    "- `sqft_walls` = total square feet of walls to be painted\n",
    "- `sqft_ceiling` = square feet of ceiling to be painted\n",
    "- `sqft_per_gallon` = number of square feet that you can cover with one gallon of paint\n",
    "- `cost_per_gallon` = cost (in dollars) of one gallon of paint\n",
    "\n",
    "It should return the cost (in dollars) of putting one coat of paint on all walls and the ceiling.  Assume you can buy the exact amount of paint that you need, so you can buy partial gallons (e.g., if you need 7.523 gallons, you can buy that exact amount, instead of needing to buy 8 gallons and waste some paint).  Do not round your answer."
   ]
  },
  {
   "cell_type": "code",
   "execution_count": 6,
   "id": "692b767e",
   "metadata": {
    "execution": {
     "iopub.execute_input": "2022-05-25T21:37:44.709720Z",
     "iopub.status.busy": "2022-05-25T21:37:44.709343Z",
     "iopub.status.idle": "2022-05-25T21:37:44.716494Z",
     "shell.execute_reply": "2022-05-25T21:37:44.715953Z"
    },
    "papermill": {
     "duration": 0.018649,
     "end_time": "2022-05-25T21:37:44.718305",
     "exception": false,
     "start_time": "2022-05-25T21:37:44.699656",
     "status": "completed"
    },
    "tags": []
   },
   "outputs": [
    {
     "data": {
      "application/javascript": [
       "parent.postMessage({\"jupyterEvent\": \"custom.exercise_interaction\", \"data\": {\"outcomeType\": 2, \"failureMessage\": \"Expected return value of `21.599999999999998` given `sqft_walls=432`, `sqft_ceiling=144`, `sqft_per_gallon=400`, `cost_per_gallon=15`, but got `<learntools.core.constants.PlaceholderValue object at 0x7efd8c988710>` instead.\", \"interactionType\": 1, \"questionType\": 2, \"questionId\": \"3_GetCostPaint\", \"learnToolsVersion\": \"0.3.4\", \"valueTowardsCompletion\": 0.0, \"exceptionClass\": \"\", \"trace\": \"\"}}, \"*\")"
      ],
      "text/plain": [
       "<IPython.core.display.Javascript object>"
      ]
     },
     "metadata": {},
     "output_type": "display_data"
    },
    {
     "data": {
      "text/markdown": [
       "<span style=\"color:#cc3333\">Incorrect:</span> Expected return value of `21.599999999999998` given `sqft_walls=432`, `sqft_ceiling=144`, `sqft_per_gallon=400`, `cost_per_gallon=15`, but got `<learntools.core.constants.PlaceholderValue object at 0x7efd8c988710>` instead."
      ],
      "text/plain": [
       "Incorrect: Expected return value of `21.599999999999998` given `sqft_walls=432`, `sqft_ceiling=144`, `sqft_per_gallon=400`, `cost_per_gallon=15`, but got `<learntools.core.constants.PlaceholderValue object at 0x7efd8c988710>` instead."
      ]
     },
     "metadata": {},
     "output_type": "display_data"
    }
   ],
   "source": [
    "# TODO: Finish defining the function\n",
    "def get_cost(sqft_walls, sqft_ceiling, sqft_per_gallon, cost_per_gallon):\n",
    "    cost = ____\n",
    "    return cost\n",
    "\n",
    "# Check your answer\n",
    "q3.check()"
   ]
  },
  {
   "cell_type": "code",
   "execution_count": 7,
   "id": "1cc673f4",
   "metadata": {
    "execution": {
     "iopub.execute_input": "2022-05-25T21:37:44.737625Z",
     "iopub.status.busy": "2022-05-25T21:37:44.737126Z",
     "iopub.status.idle": "2022-05-25T21:37:44.740833Z",
     "shell.execute_reply": "2022-05-25T21:37:44.739713Z"
    },
    "papermill": {
     "duration": 0.015922,
     "end_time": "2022-05-25T21:37:44.743076",
     "exception": false,
     "start_time": "2022-05-25T21:37:44.727154",
     "status": "completed"
    },
    "tags": []
   },
   "outputs": [],
   "source": [
    "# Uncomment to see a hint\n",
    "#q3.hint()\n",
    "\n",
    "# Uncomment to view the solution\n",
    "#q3.solution()"
   ]
  },
  {
   "cell_type": "markdown",
   "id": "f230d546",
   "metadata": {
    "papermill": {
     "duration": 0.008152,
     "end_time": "2022-05-25T21:37:44.759837",
     "exception": false,
     "start_time": "2022-05-25T21:37:44.751685",
     "status": "completed"
    },
    "tags": []
   },
   "source": [
    "# Question 4\n",
    "\n",
    "Use the `get_cost()` function you defined in Question 3 to calculate the cost of applying one coat of paint to a room with:\n",
    "- 432 square feet of walls, and\n",
    "- 144 square feet of ceiling.\n",
    "\n",
    "Assume that one gallon of paint covers 400 square feet and costs $15.  As in Question 3, assume you can buy partial gallons of paint.  Do not round your answer."
   ]
  },
  {
   "cell_type": "code",
   "execution_count": 8,
   "id": "d4526509",
   "metadata": {
    "execution": {
     "iopub.execute_input": "2022-05-25T21:37:44.779559Z",
     "iopub.status.busy": "2022-05-25T21:37:44.778146Z",
     "iopub.status.idle": "2022-05-25T21:37:44.789701Z",
     "shell.execute_reply": "2022-05-25T21:37:44.788424Z"
    },
    "papermill": {
     "duration": 0.023519,
     "end_time": "2022-05-25T21:37:44.791919",
     "exception": false,
     "start_time": "2022-05-25T21:37:44.768400",
     "status": "completed"
    },
    "tags": []
   },
   "outputs": [
    {
     "data": {
      "application/javascript": [
       "parent.postMessage({\"jupyterEvent\": \"custom.exercise_interaction\", \"data\": {\"outcomeType\": 4, \"interactionType\": 1, \"questionType\": 1, \"questionId\": \"4_GetCostPaintExample\", \"learnToolsVersion\": \"0.3.4\", \"valueTowardsCompletion\": 0.0, \"failureMessage\": \"\", \"exceptionClass\": \"\", \"trace\": \"\"}}, \"*\")"
      ],
      "text/plain": [
       "<IPython.core.display.Javascript object>"
      ]
     },
     "metadata": {},
     "output_type": "display_data"
    },
    {
     "data": {
      "text/markdown": [
       "<span style=\"color:#ccaa33\">Check:</span> When you've updated the starter code, `check()` will tell you whether your code is correct. You need to update the code that creates variable `project_cost`"
      ],
      "text/plain": [
       "Check: When you've updated the starter code, `check()` will tell you whether your code is correct. You need to update the code that creates variable `project_cost`"
      ]
     },
     "metadata": {},
     "output_type": "display_data"
    }
   ],
   "source": [
    "# TODO: Set the project_cost variable to the cost of the project\n",
    "project_cost = ____\n",
    "\n",
    "# Check your answer\n",
    "q4.check()"
   ]
  },
  {
   "cell_type": "code",
   "execution_count": 9,
   "id": "15a77fa1",
   "metadata": {
    "execution": {
     "iopub.execute_input": "2022-05-25T21:37:44.812256Z",
     "iopub.status.busy": "2022-05-25T21:37:44.811660Z",
     "iopub.status.idle": "2022-05-25T21:37:44.815921Z",
     "shell.execute_reply": "2022-05-25T21:37:44.814898Z"
    },
    "papermill": {
     "duration": 0.016995,
     "end_time": "2022-05-25T21:37:44.818135",
     "exception": false,
     "start_time": "2022-05-25T21:37:44.801140",
     "status": "completed"
    },
    "tags": []
   },
   "outputs": [],
   "source": [
    "# Uncomment to see a hint\n",
    "#q4.hint()\n",
    "\n",
    "# Uncomment to view the solution\n",
    "#q4.solution()"
   ]
  },
  {
   "cell_type": "markdown",
   "id": "bb22f816",
   "metadata": {
    "papermill": {
     "duration": 0.008993,
     "end_time": "2022-05-25T21:37:44.836748",
     "exception": false,
     "start_time": "2022-05-25T21:37:44.827755",
     "status": "completed"
    },
    "tags": []
   },
   "source": [
    "# 🌶️ Question 5\n",
    "\n",
    "Now say you can no longer buy fractions of a gallon.  (For instance, if you need 4.3 gallons to do a project, then you have to buy 5 gallons of paint.)\n",
    "\n",
    "With this new scenario, you will create a new function `get_actual_cost` that uses the same inputs and calculates the cost of your project.\n",
    "\n",
    "One function that you'll need to use to do this is `math.ceil()`.  We demonstrate usage of this function in the code cell below.  It takes as a number as input and rounds the number up to the nearest integer.  \n",
    "\n",
    "Run the next code cell to test this function for yourself.  Feel free to change the value of `test_value` and make sure `math.ceil()` returns the number you expect."
   ]
  },
  {
   "cell_type": "code",
   "execution_count": 10,
   "id": "7dcd39f0",
   "metadata": {
    "execution": {
     "iopub.execute_input": "2022-05-25T21:37:44.858454Z",
     "iopub.status.busy": "2022-05-25T21:37:44.856845Z",
     "iopub.status.idle": "2022-05-25T21:37:44.863920Z",
     "shell.execute_reply": "2022-05-25T21:37:44.862256Z"
    },
    "papermill": {
     "duration": 0.020415,
     "end_time": "2022-05-25T21:37:44.866575",
     "exception": false,
     "start_time": "2022-05-25T21:37:44.846160",
     "status": "completed"
    },
    "tags": []
   },
   "outputs": [
    {
     "name": "stdout",
     "output_type": "stream",
     "text": [
      "3\n"
     ]
    }
   ],
   "source": [
    "test_value = 2.17\n",
    "\n",
    "rounded_value = math.ceil(test_value)\n",
    "print(rounded_value)"
   ]
  },
  {
   "cell_type": "markdown",
   "id": "9beb6c55",
   "metadata": {
    "papermill": {
     "duration": 0.008856,
     "end_time": "2022-05-25T21:37:44.884864",
     "exception": false,
     "start_time": "2022-05-25T21:37:44.876008",
     "status": "completed"
    },
    "tags": []
   },
   "source": [
    "Use the next code cell to define the function `get_actual_cost()`.  You'll need to use the `math.ceil()` function to do this.\n",
    "\n",
    "When answering this question, note that it's completely valid to define a function that makes use of another function.  For instance, we can define a function `round_up_and_divide_by_three` that makes use of the `math.ceil` function:\n",
    "```\n",
    "def round_up_and_divide_by_three(num):\n",
    "    new_value = math.ceil(num)\n",
    "    final_value = new_value / 3\n",
    "    return final_value\n",
    "```"
   ]
  },
  {
   "cell_type": "code",
   "execution_count": 11,
   "id": "13b7c70c",
   "metadata": {
    "execution": {
     "iopub.execute_input": "2022-05-25T21:37:44.905852Z",
     "iopub.status.busy": "2022-05-25T21:37:44.905253Z",
     "iopub.status.idle": "2022-05-25T21:37:44.914669Z",
     "shell.execute_reply": "2022-05-25T21:37:44.913673Z"
    },
    "papermill": {
     "duration": 0.022199,
     "end_time": "2022-05-25T21:37:44.916739",
     "exception": false,
     "start_time": "2022-05-25T21:37:44.894540",
     "status": "completed"
    },
    "tags": []
   },
   "outputs": [
    {
     "data": {
      "application/javascript": [
       "parent.postMessage({\"jupyterEvent\": \"custom.exercise_interaction\", \"data\": {\"outcomeType\": 2, \"failureMessage\": \"Expected return value of `30` given `sqft_walls=432`, `sqft_ceiling=144`, `sqft_per_gallon=400`, `cost_per_gallon=15`, but got `<learntools.core.constants.PlaceholderValue object at 0x7efd8c988710>` instead.\", \"interactionType\": 1, \"questionType\": 2, \"questionId\": \"5_NoMoreFractions\", \"learnToolsVersion\": \"0.3.4\", \"valueTowardsCompletion\": 0.0, \"exceptionClass\": \"\", \"trace\": \"\"}}, \"*\")"
      ],
      "text/plain": [
       "<IPython.core.display.Javascript object>"
      ]
     },
     "metadata": {},
     "output_type": "display_data"
    },
    {
     "data": {
      "text/markdown": [
       "<span style=\"color:#cc3333\">Incorrect:</span> Expected return value of `30` given `sqft_walls=432`, `sqft_ceiling=144`, `sqft_per_gallon=400`, `cost_per_gallon=15`, but got `<learntools.core.constants.PlaceholderValue object at 0x7efd8c988710>` instead."
      ],
      "text/plain": [
       "Incorrect: Expected return value of `30` given `sqft_walls=432`, `sqft_ceiling=144`, `sqft_per_gallon=400`, `cost_per_gallon=15`, but got `<learntools.core.constants.PlaceholderValue object at 0x7efd8c988710>` instead."
      ]
     },
     "metadata": {},
     "output_type": "display_data"
    }
   ],
   "source": [
    "def get_actual_cost(sqft_walls, sqft_ceiling, sqft_per_gallon, cost_per_gallon):\n",
    "    cost = ____\n",
    "    return cost\n",
    "\n",
    "# Check your answer\n",
    "q5.check()"
   ]
  },
  {
   "cell_type": "code",
   "execution_count": 12,
   "id": "32d28f35",
   "metadata": {
    "execution": {
     "iopub.execute_input": "2022-05-25T21:37:44.938127Z",
     "iopub.status.busy": "2022-05-25T21:37:44.937555Z",
     "iopub.status.idle": "2022-05-25T21:37:44.941408Z",
     "shell.execute_reply": "2022-05-25T21:37:44.940754Z"
    },
    "papermill": {
     "duration": 0.016392,
     "end_time": "2022-05-25T21:37:44.943245",
     "exception": false,
     "start_time": "2022-05-25T21:37:44.926853",
     "status": "completed"
    },
    "tags": []
   },
   "outputs": [],
   "source": [
    "# Uncomment to see a hint\n",
    "#q5.hint()\n",
    "\n",
    "# Uncomment to view the solution\n",
    "#q5.solution()"
   ]
  },
  {
   "cell_type": "markdown",
   "id": "93ed44fd",
   "metadata": {
    "papermill": {
     "duration": 0.009025,
     "end_time": "2022-05-25T21:37:44.961643",
     "exception": false,
     "start_time": "2022-05-25T21:37:44.952618",
     "status": "completed"
    },
    "tags": []
   },
   "source": [
    "Once your function is verified as correct, run the next code cell to calculate the updated cost of your project."
   ]
  },
  {
   "cell_type": "code",
   "execution_count": 13,
   "id": "dc35e7cf",
   "metadata": {
    "execution": {
     "iopub.execute_input": "2022-05-25T21:37:44.982549Z",
     "iopub.status.busy": "2022-05-25T21:37:44.981943Z",
     "iopub.status.idle": "2022-05-25T21:37:44.988432Z",
     "shell.execute_reply": "2022-05-25T21:37:44.987666Z"
    },
    "papermill": {
     "duration": 0.019006,
     "end_time": "2022-05-25T21:37:44.990310",
     "exception": false,
     "start_time": "2022-05-25T21:37:44.971304",
     "status": "completed"
    },
    "tags": []
   },
   "outputs": [
    {
     "data": {
      "text/markdown": [],
      "text/plain": [
       "<learntools.core.constants.PlaceholderValue at 0x7efd8c988710>"
      ]
     },
     "execution_count": 13,
     "metadata": {},
     "output_type": "execute_result"
    }
   ],
   "source": [
    "get_actual_cost(432, 144, 400, 15) "
   ]
  },
  {
   "cell_type": "markdown",
   "id": "0c3c263e",
   "metadata": {
    "papermill": {
     "duration": 0.009195,
     "end_time": "2022-05-25T21:37:45.008954",
     "exception": false,
     "start_time": "2022-05-25T21:37:44.999759",
     "status": "completed"
    },
    "tags": []
   },
   "source": [
    "Say you're working with a slightly larger room.  Run the next code cell to calculate the cost of the project."
   ]
  },
  {
   "cell_type": "code",
   "execution_count": 14,
   "id": "abd8fb7f",
   "metadata": {
    "execution": {
     "iopub.execute_input": "2022-05-25T21:37:45.030017Z",
     "iopub.status.busy": "2022-05-25T21:37:45.029428Z",
     "iopub.status.idle": "2022-05-25T21:37:45.035111Z",
     "shell.execute_reply": "2022-05-25T21:37:45.034362Z"
    },
    "papermill": {
     "duration": 0.018094,
     "end_time": "2022-05-25T21:37:45.036828",
     "exception": false,
     "start_time": "2022-05-25T21:37:45.018734",
     "status": "completed"
    },
    "tags": []
   },
   "outputs": [
    {
     "data": {
      "text/markdown": [],
      "text/plain": [
       "<learntools.core.constants.PlaceholderValue at 0x7efd8c988710>"
      ]
     },
     "execution_count": 14,
     "metadata": {},
     "output_type": "execute_result"
    }
   ],
   "source": [
    "get_actual_cost(594, 288, 400, 15) "
   ]
  },
  {
   "cell_type": "markdown",
   "id": "50a3865b",
   "metadata": {
    "papermill": {
     "duration": 0.009282,
     "end_time": "2022-05-25T21:37:45.055854",
     "exception": false,
     "start_time": "2022-05-25T21:37:45.046572",
     "status": "completed"
    },
    "tags": []
   },
   "source": [
    "# Keep going\n",
    "\n",
    "Continue to learn about **[data types](https://www.kaggle.com/alexisbcook/data-types)**."
   ]
  },
  {
   "cell_type": "markdown",
   "id": "ba9079a5",
   "metadata": {
    "papermill": {
     "duration": 0.009422,
     "end_time": "2022-05-25T21:37:45.075054",
     "exception": false,
     "start_time": "2022-05-25T21:37:45.065632",
     "status": "completed"
    },
    "tags": []
   },
   "source": [
    "---\n",
    "\n",
    "\n",
    "\n",
    "\n",
    "*Have questions or comments? Visit the [course discussion forum](https://www.kaggle.com/learn/intro-to-programming/discussion) to chat with other learners.*"
   ]
  }
 ],
 "metadata": {
  "kernelspec": {
   "display_name": "Python 3",
   "language": "python",
   "name": "python3"
  },
  "language_info": {
   "codemirror_mode": {
    "name": "ipython",
    "version": 3
   },
   "file_extension": ".py",
   "mimetype": "text/x-python",
   "name": "python",
   "nbconvert_exporter": "python",
   "pygments_lexer": "ipython3",
   "version": "3.7.12"
  },
  "papermill": {
   "default_parameters": {},
   "duration": 12.466376,
   "end_time": "2022-05-25T21:37:45.806423",
   "environment_variables": {},
   "exception": null,
   "input_path": "__notebook__.ipynb",
   "output_path": "__notebook__.ipynb",
   "parameters": {},
   "start_time": "2022-05-25T21:37:33.340047",
   "version": "2.3.4"
  }
 },
 "nbformat": 4,
 "nbformat_minor": 5
}
