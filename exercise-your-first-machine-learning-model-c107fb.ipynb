{
 "cells": [
  {
   "cell_type": "markdown",
   "id": "1499f354",
   "metadata": {
    "papermill": {
     "duration": 0.020799,
     "end_time": "2022-05-06T19:24:19.694818",
     "exception": false,
     "start_time": "2022-05-06T19:24:19.674019",
     "status": "completed"
    },
    "tags": []
   },
   "source": [
    "**This notebook is an exercise in the [Introduction to Machine Learning](https://www.kaggle.com/learn/intro-to-machine-learning) course.  You can reference the tutorial at [this link](https://www.kaggle.com/dansbecker/your-first-machine-learning-model).**\n",
    "\n",
    "---\n"
   ]
  },
  {
   "cell_type": "markdown",
   "id": "ea84e6f4",
   "metadata": {
    "papermill": {
     "duration": 0.019218,
     "end_time": "2022-05-06T19:24:19.734028",
     "exception": false,
     "start_time": "2022-05-06T19:24:19.714810",
     "status": "completed"
    },
    "tags": []
   },
   "source": [
    "## Recap\n",
    "So far, you have loaded your data and reviewed it with the following code. Run this cell to set up your coding environment where the previous step left off."
   ]
  },
  {
   "cell_type": "code",
   "execution_count": 1,
   "id": "504a8245",
   "metadata": {
    "execution": {
     "iopub.execute_input": "2022-05-06T19:24:19.774866Z",
     "iopub.status.busy": "2022-05-06T19:24:19.774328Z",
     "iopub.status.idle": "2022-05-06T19:24:21.223423Z",
     "shell.execute_reply": "2022-05-06T19:24:21.222381Z"
    },
    "papermill": {
     "duration": 1.473782,
     "end_time": "2022-05-06T19:24:21.227223",
     "exception": false,
     "start_time": "2022-05-06T19:24:19.753441",
     "status": "completed"
    },
    "tags": []
   },
   "outputs": [
    {
     "name": "stdout",
     "output_type": "stream",
     "text": [
      "Setup Complete\n"
     ]
    }
   ],
   "source": [
    "# Code you have previously used to load data\n",
    "import pandas as pd\n",
    "\n",
    "# Path of the file to read\n",
    "iowa_file_path = '../input/home-data-for-ml-course/train.csv'\n",
    "\n",
    "home_data = pd.read_csv(iowa_file_path)\n",
    "\n",
    "# Set up code checking\n",
    "from learntools.core import binder\n",
    "binder.bind(globals())\n",
    "from learntools.machine_learning.ex3 import *\n",
    "\n",
    "print(\"Setup Complete\")"
   ]
  },
  {
   "cell_type": "markdown",
   "id": "fbcc91d1",
   "metadata": {
    "papermill": {
     "duration": 0.01962,
     "end_time": "2022-05-06T19:24:21.269970",
     "exception": false,
     "start_time": "2022-05-06T19:24:21.250350",
     "status": "completed"
    },
    "tags": []
   },
   "source": [
    "# Exercises\n",
    "\n",
    "## Step 1: Specify Prediction Target\n",
    "Select the target variable, which corresponds to the sales price. Save this to a new variable called `y`. You'll need to print a list of the columns to find the name of the column you need.\n"
   ]
  },
  {
   "cell_type": "code",
   "execution_count": 2,
   "id": "069f9b01",
   "metadata": {
    "execution": {
     "iopub.execute_input": "2022-05-06T19:24:21.312093Z",
     "iopub.status.busy": "2022-05-06T19:24:21.311815Z",
     "iopub.status.idle": "2022-05-06T19:24:21.317615Z",
     "shell.execute_reply": "2022-05-06T19:24:21.316549Z"
    },
    "papermill": {
     "duration": 0.029889,
     "end_time": "2022-05-06T19:24:21.320295",
     "exception": false,
     "start_time": "2022-05-06T19:24:21.290406",
     "status": "completed"
    },
    "tags": []
   },
   "outputs": [
    {
     "name": "stdout",
     "output_type": "stream",
     "text": [
      "Index(['Id', 'MSSubClass', 'MSZoning', 'LotFrontage', 'LotArea', 'Street',\n",
      "       'Alley', 'LotShape', 'LandContour', 'Utilities', 'LotConfig',\n",
      "       'LandSlope', 'Neighborhood', 'Condition1', 'Condition2', 'BldgType',\n",
      "       'HouseStyle', 'OverallQual', 'OverallCond', 'YearBuilt', 'YearRemodAdd',\n",
      "       'RoofStyle', 'RoofMatl', 'Exterior1st', 'Exterior2nd', 'MasVnrType',\n",
      "       'MasVnrArea', 'ExterQual', 'ExterCond', 'Foundation', 'BsmtQual',\n",
      "       'BsmtCond', 'BsmtExposure', 'BsmtFinType1', 'BsmtFinSF1',\n",
      "       'BsmtFinType2', 'BsmtFinSF2', 'BsmtUnfSF', 'TotalBsmtSF', 'Heating',\n",
      "       'HeatingQC', 'CentralAir', 'Electrical', '1stFlrSF', '2ndFlrSF',\n",
      "       'LowQualFinSF', 'GrLivArea', 'BsmtFullBath', 'BsmtHalfBath', 'FullBath',\n",
      "       'HalfBath', 'BedroomAbvGr', 'KitchenAbvGr', 'KitchenQual',\n",
      "       'TotRmsAbvGrd', 'Functional', 'Fireplaces', 'FireplaceQu', 'GarageType',\n",
      "       'GarageYrBlt', 'GarageFinish', 'GarageCars', 'GarageArea', 'GarageQual',\n",
      "       'GarageCond', 'PavedDrive', 'WoodDeckSF', 'OpenPorchSF',\n",
      "       'EnclosedPorch', '3SsnPorch', 'ScreenPorch', 'PoolArea', 'PoolQC',\n",
      "       'Fence', 'MiscFeature', 'MiscVal', 'MoSold', 'YrSold', 'SaleType',\n",
      "       'SaleCondition', 'SalePrice'],\n",
      "      dtype='object')\n"
     ]
    }
   ],
   "source": [
    "# print the list of columns in the dataset to find the name of the prediction target\n",
    "home_data_columns = home_data.columns\n",
    "print(home_data_columns)"
   ]
  },
  {
   "cell_type": "code",
   "execution_count": 3,
   "id": "5e84de92",
   "metadata": {
    "execution": {
     "iopub.execute_input": "2022-05-06T19:24:21.362622Z",
     "iopub.status.busy": "2022-05-06T19:24:21.362345Z",
     "iopub.status.idle": "2022-05-06T19:24:21.379883Z",
     "shell.execute_reply": "2022-05-06T19:24:21.379229Z"
    },
    "papermill": {
     "duration": 0.041318,
     "end_time": "2022-05-06T19:24:21.381988",
     "exception": false,
     "start_time": "2022-05-06T19:24:21.340670",
     "status": "completed"
    },
    "tags": []
   },
   "outputs": [
    {
     "data": {
      "text/html": [
       "<div>\n",
       "<style scoped>\n",
       "    .dataframe tbody tr th:only-of-type {\n",
       "        vertical-align: middle;\n",
       "    }\n",
       "\n",
       "    .dataframe tbody tr th {\n",
       "        vertical-align: top;\n",
       "    }\n",
       "\n",
       "    .dataframe thead th {\n",
       "        text-align: right;\n",
       "    }\n",
       "</style>\n",
       "<table border=\"1\" class=\"dataframe\">\n",
       "  <thead>\n",
       "    <tr style=\"text-align: right;\">\n",
       "      <th></th>\n",
       "      <th>0</th>\n",
       "    </tr>\n",
       "  </thead>\n",
       "  <tbody>\n",
       "    <tr>\n",
       "      <th>0</th>\n",
       "      <td>Id</td>\n",
       "    </tr>\n",
       "    <tr>\n",
       "      <th>1</th>\n",
       "      <td>MSSubClass</td>\n",
       "    </tr>\n",
       "    <tr>\n",
       "      <th>2</th>\n",
       "      <td>MSZoning</td>\n",
       "    </tr>\n",
       "    <tr>\n",
       "      <th>3</th>\n",
       "      <td>LotFrontage</td>\n",
       "    </tr>\n",
       "    <tr>\n",
       "      <th>4</th>\n",
       "      <td>LotArea</td>\n",
       "    </tr>\n",
       "    <tr>\n",
       "      <th>...</th>\n",
       "      <td>...</td>\n",
       "    </tr>\n",
       "    <tr>\n",
       "      <th>76</th>\n",
       "      <td>MoSold</td>\n",
       "    </tr>\n",
       "    <tr>\n",
       "      <th>77</th>\n",
       "      <td>YrSold</td>\n",
       "    </tr>\n",
       "    <tr>\n",
       "      <th>78</th>\n",
       "      <td>SaleType</td>\n",
       "    </tr>\n",
       "    <tr>\n",
       "      <th>79</th>\n",
       "      <td>SaleCondition</td>\n",
       "    </tr>\n",
       "    <tr>\n",
       "      <th>80</th>\n",
       "      <td>SalePrice</td>\n",
       "    </tr>\n",
       "  </tbody>\n",
       "</table>\n",
       "<p>81 rows × 1 columns</p>\n",
       "</div>"
      ],
      "text/plain": [
       "                0\n",
       "0              Id\n",
       "1      MSSubClass\n",
       "2        MSZoning\n",
       "3     LotFrontage\n",
       "4         LotArea\n",
       "..            ...\n",
       "76         MoSold\n",
       "77         YrSold\n",
       "78       SaleType\n",
       "79  SaleCondition\n",
       "80      SalePrice\n",
       "\n",
       "[81 rows x 1 columns]"
      ]
     },
     "execution_count": 3,
     "metadata": {},
     "output_type": "execute_result"
    }
   ],
   "source": [
    "home_data_columns_df = pd.DataFrame(home_data_columns)\n",
    "home_data_columns_df"
   ]
  },
  {
   "cell_type": "code",
   "execution_count": 4,
   "id": "f812dc67",
   "metadata": {
    "execution": {
     "iopub.execute_input": "2022-05-06T19:24:21.425304Z",
     "iopub.status.busy": "2022-05-06T19:24:21.424878Z",
     "iopub.status.idle": "2022-05-06T19:24:21.436641Z",
     "shell.execute_reply": "2022-05-06T19:24:21.435975Z"
    },
    "papermill": {
     "duration": 0.036313,
     "end_time": "2022-05-06T19:24:21.439028",
     "exception": false,
     "start_time": "2022-05-06T19:24:21.402715",
     "status": "completed"
    },
    "tags": []
   },
   "outputs": [
    {
     "data": {
      "application/javascript": [
       "parent.postMessage({\"jupyterEvent\": \"custom.exercise_interaction\", \"data\": {\"outcomeType\": 1, \"valueTowardsCompletion\": 0.25, \"interactionType\": 1, \"questionType\": 2, \"questionId\": \"1_SetTarget\", \"learnToolsVersion\": \"0.3.4\", \"failureMessage\": \"\", \"exceptionClass\": \"\", \"trace\": \"\"}}, \"*\")"
      ],
      "text/plain": [
       "<IPython.core.display.Javascript object>"
      ]
     },
     "metadata": {},
     "output_type": "display_data"
    },
    {
     "data": {
      "text/markdown": [
       "<span style=\"color:#33cc33\">Correct</span>"
      ],
      "text/plain": [
       "Correct"
      ]
     },
     "metadata": {},
     "output_type": "display_data"
    }
   ],
   "source": [
    "y = home_data['SalePrice']\n",
    "   \n",
    "\n",
    "# Check your answer\n",
    "step_1.check()"
   ]
  },
  {
   "cell_type": "code",
   "execution_count": 5,
   "id": "365df517",
   "metadata": {
    "execution": {
     "iopub.execute_input": "2022-05-06T19:24:21.484822Z",
     "iopub.status.busy": "2022-05-06T19:24:21.484353Z",
     "iopub.status.idle": "2022-05-06T19:24:21.487327Z",
     "shell.execute_reply": "2022-05-06T19:24:21.486703Z"
    },
    "papermill": {
     "duration": 0.028205,
     "end_time": "2022-05-06T19:24:21.489198",
     "exception": false,
     "start_time": "2022-05-06T19:24:21.460993",
     "status": "completed"
    },
    "tags": []
   },
   "outputs": [],
   "source": [
    "# The lines below will show you a hint or the solution.\n",
    "#step_1.hint() \n",
    "# step_1.solution()"
   ]
  },
  {
   "cell_type": "markdown",
   "id": "c831fd50",
   "metadata": {
    "papermill": {
     "duration": 0.023691,
     "end_time": "2022-05-06T19:24:21.535232",
     "exception": false,
     "start_time": "2022-05-06T19:24:21.511541",
     "status": "completed"
    },
    "tags": []
   },
   "source": [
    "## Step 2: Create X\n",
    "Now you will create a DataFrame called `X` holding the predictive features.\n",
    "\n",
    "Since you want only some columns from the original data, you'll first create a list with the names of the columns you want in `X`.\n",
    "\n",
    "You'll use just the following columns in the list (you can copy and paste the whole list to save some typing, though you'll still need to add quotes):\n",
    "  * LotArea\n",
    "  * YearBuilt\n",
    "  * 1stFlrSF\n",
    "  * 2ndFlrSF\n",
    "  * FullBath\n",
    "  * BedroomAbvGr\n",
    "  * TotRmsAbvGrd\n",
    "\n",
    "After you've created that list of features, use it to create the DataFrame that you'll use to fit the model."
   ]
  },
  {
   "cell_type": "code",
   "execution_count": 6,
   "id": "217eddda",
   "metadata": {
    "execution": {
     "iopub.execute_input": "2022-05-06T19:24:21.581193Z",
     "iopub.status.busy": "2022-05-06T19:24:21.580479Z",
     "iopub.status.idle": "2022-05-06T19:24:21.593979Z",
     "shell.execute_reply": "2022-05-06T19:24:21.593329Z"
    },
    "papermill": {
     "duration": 0.038757,
     "end_time": "2022-05-06T19:24:21.595978",
     "exception": false,
     "start_time": "2022-05-06T19:24:21.557221",
     "status": "completed"
    },
    "tags": []
   },
   "outputs": [
    {
     "data": {
      "application/javascript": [
       "parent.postMessage({\"jupyterEvent\": \"custom.exercise_interaction\", \"data\": {\"outcomeType\": 1, \"valueTowardsCompletion\": 0.25, \"interactionType\": 1, \"questionType\": 2, \"questionId\": \"2_SelectPredictionData\", \"learnToolsVersion\": \"0.3.4\", \"failureMessage\": \"\", \"exceptionClass\": \"\", \"trace\": \"\"}}, \"*\")"
      ],
      "text/plain": [
       "<IPython.core.display.Javascript object>"
      ]
     },
     "metadata": {},
     "output_type": "display_data"
    },
    {
     "data": {
      "text/markdown": [
       "<span style=\"color:#33cc33\">Correct</span>"
      ],
      "text/plain": [
       "Correct"
      ]
     },
     "metadata": {},
     "output_type": "display_data"
    }
   ],
   "source": [
    "# Create the list of features below\n",
    "feature_names = [\"LotArea\", \"YearBuilt\", \"1stFlrSF\", \"2ndFlrSF\", \"FullBath\", \"BedroomAbvGr\", \"TotRmsAbvGrd\"]\n",
    "\n",
    "# Select data corresponding to features in feature_names\n",
    "X = home_data[feature_names]\n",
    "\n",
    "# Check your answer\n",
    "step_2.check()"
   ]
  },
  {
   "cell_type": "code",
   "execution_count": 7,
   "id": "893b0d75",
   "metadata": {
    "execution": {
     "iopub.execute_input": "2022-05-06T19:24:21.644389Z",
     "iopub.status.busy": "2022-05-06T19:24:21.643833Z",
     "iopub.status.idle": "2022-05-06T19:24:21.647441Z",
     "shell.execute_reply": "2022-05-06T19:24:21.646598Z"
    },
    "papermill": {
     "duration": 0.030703,
     "end_time": "2022-05-06T19:24:21.649861",
     "exception": false,
     "start_time": "2022-05-06T19:24:21.619158",
     "status": "completed"
    },
    "tags": []
   },
   "outputs": [],
   "source": [
    "#step_2.hint()\n",
    "#step_2.solution()"
   ]
  },
  {
   "cell_type": "markdown",
   "id": "610c5b99",
   "metadata": {
    "papermill": {
     "duration": 0.0231,
     "end_time": "2022-05-06T19:24:21.696152",
     "exception": false,
     "start_time": "2022-05-06T19:24:21.673052",
     "status": "completed"
    },
    "tags": []
   },
   "source": [
    "## Review Data\n",
    "Before building a model, take a quick look at **X** to verify it looks sensible"
   ]
  },
  {
   "cell_type": "code",
   "execution_count": 8,
   "id": "4dc314f0",
   "metadata": {
    "execution": {
     "iopub.execute_input": "2022-05-06T19:24:21.744065Z",
     "iopub.status.busy": "2022-05-06T19:24:21.743499Z",
     "iopub.status.idle": "2022-05-06T19:24:21.751486Z",
     "shell.execute_reply": "2022-05-06T19:24:21.750864Z"
    },
    "papermill": {
     "duration": 0.034991,
     "end_time": "2022-05-06T19:24:21.754211",
     "exception": false,
     "start_time": "2022-05-06T19:24:21.719220",
     "status": "completed"
    },
    "tags": []
   },
   "outputs": [
    {
     "name": "stdout",
     "output_type": "stream",
     "text": [
      "      LotArea  YearBuilt  1stFlrSF  2ndFlrSF  FullBath  BedroomAbvGr  \\\n",
      "0        8450       2003       856       854         2             3   \n",
      "1        9600       1976      1262         0         2             3   \n",
      "2       11250       2001       920       866         2             3   \n",
      "3        9550       1915       961       756         1             3   \n",
      "4       14260       2000      1145      1053         2             4   \n",
      "...       ...        ...       ...       ...       ...           ...   \n",
      "1455     7917       1999       953       694         2             3   \n",
      "1456    13175       1978      2073         0         2             3   \n",
      "1457     9042       1941      1188      1152         2             4   \n",
      "1458     9717       1950      1078         0         1             2   \n",
      "1459     9937       1965      1256         0         1             3   \n",
      "\n",
      "      TotRmsAbvGrd  \n",
      "0                8  \n",
      "1                6  \n",
      "2                6  \n",
      "3                7  \n",
      "4                9  \n",
      "...            ...  \n",
      "1455             7  \n",
      "1456             7  \n",
      "1457             9  \n",
      "1458             5  \n",
      "1459             6  \n",
      "\n",
      "[1460 rows x 7 columns]\n"
     ]
    }
   ],
   "source": [
    "# Review data\n",
    "# print description or statistics from X\n",
    "print(X)\n",
    "\n",
    "# print the top few lines\n",
    "#print(X).head()"
   ]
  },
  {
   "cell_type": "markdown",
   "id": "85088c9a",
   "metadata": {
    "papermill": {
     "duration": 0.023457,
     "end_time": "2022-05-06T19:24:21.801434",
     "exception": false,
     "start_time": "2022-05-06T19:24:21.777977",
     "status": "completed"
    },
    "tags": []
   },
   "source": [
    "## Step 3: Specify and Fit Model\n",
    "Create a `DecisionTreeRegressor` and save it iowa_model. Ensure you've done the relevant import from sklearn to run this command.\n",
    "\n",
    "Then fit the model you just created using the data in `X` and `y` that you saved above."
   ]
  },
  {
   "cell_type": "code",
   "execution_count": 9,
   "id": "767ad1ff",
   "metadata": {
    "execution": {
     "iopub.execute_input": "2022-05-06T19:24:21.850374Z",
     "iopub.status.busy": "2022-05-06T19:24:21.849716Z",
     "iopub.status.idle": "2022-05-06T19:24:21.868039Z",
     "shell.execute_reply": "2022-05-06T19:24:21.867219Z"
    },
    "papermill": {
     "duration": 0.045146,
     "end_time": "2022-05-06T19:24:21.870159",
     "exception": false,
     "start_time": "2022-05-06T19:24:21.825013",
     "status": "completed"
    },
    "tags": []
   },
   "outputs": [
    {
     "data": {
      "application/javascript": [
       "parent.postMessage({\"jupyterEvent\": \"custom.exercise_interaction\", \"data\": {\"outcomeType\": 1, \"valueTowardsCompletion\": 0.25, \"interactionType\": 1, \"questionType\": 2, \"questionId\": \"3_CreateModel\", \"learnToolsVersion\": \"0.3.4\", \"failureMessage\": \"\", \"exceptionClass\": \"\", \"trace\": \"\"}}, \"*\")"
      ],
      "text/plain": [
       "<IPython.core.display.Javascript object>"
      ]
     },
     "metadata": {},
     "output_type": "display_data"
    },
    {
     "data": {
      "text/markdown": [
       "<span style=\"color:#33cc33\">Correct</span>"
      ],
      "text/plain": [
       "Correct"
      ]
     },
     "metadata": {},
     "output_type": "display_data"
    }
   ],
   "source": [
    "from sklearn.tree import DecisionTreeRegressor\n",
    "#specify the model. \n",
    "#For model reproducibility, set a numeric value for random_state when specifying the model\n",
    "iowa_model = DecisionTreeRegressor(random_state=1)\n",
    "\n",
    "#Fit the model\n",
    "iowa_model.fit(X,y)\n",
    "____\n",
    "\n",
    "# Check your answer\n",
    "step_3.check()"
   ]
  },
  {
   "cell_type": "code",
   "execution_count": 10,
   "id": "cd687fbb",
   "metadata": {
    "execution": {
     "iopub.execute_input": "2022-05-06T19:24:21.922720Z",
     "iopub.status.busy": "2022-05-06T19:24:21.922117Z",
     "iopub.status.idle": "2022-05-06T19:24:21.929142Z",
     "shell.execute_reply": "2022-05-06T19:24:21.928339Z"
    },
    "papermill": {
     "duration": 0.034998,
     "end_time": "2022-05-06T19:24:21.931013",
     "exception": false,
     "start_time": "2022-05-06T19:24:21.896015",
     "status": "completed"
    },
    "tags": []
   },
   "outputs": [
    {
     "data": {
      "application/javascript": [
       "parent.postMessage({\"jupyterEvent\": \"custom.exercise_interaction\", \"data\": {\"interactionType\": 3, \"questionType\": 2, \"questionId\": \"3_CreateModel\", \"learnToolsVersion\": \"0.3.4\", \"valueTowardsCompletion\": 0.0, \"failureMessage\": \"\", \"exceptionClass\": \"\", \"trace\": \"\", \"outcomeType\": 4}}, \"*\")"
      ],
      "text/plain": [
       "<IPython.core.display.Javascript object>"
      ]
     },
     "metadata": {},
     "output_type": "display_data"
    },
    {
     "data": {
      "text/markdown": [
       "<span style=\"color:#33cc99\">Solution:</span> \n",
       "```python\n",
       "from sklearn.tree import DecisionTreeRegressor\n",
       "iowa_model = DecisionTreeRegressor(random_state=1)\n",
       "iowa_model.fit(X, y)\n",
       "```"
      ],
      "text/plain": [
       "Solution: \n",
       "```python\n",
       "from sklearn.tree import DecisionTreeRegressor\n",
       "iowa_model = DecisionTreeRegressor(random_state=1)\n",
       "iowa_model.fit(X, y)\n",
       "```"
      ]
     },
     "metadata": {},
     "output_type": "display_data"
    }
   ],
   "source": [
    "#step_3.hint()\n",
    "step_3.solution()"
   ]
  },
  {
   "cell_type": "markdown",
   "id": "485c12d7",
   "metadata": {
    "papermill": {
     "duration": 0.025511,
     "end_time": "2022-05-06T19:24:21.982476",
     "exception": false,
     "start_time": "2022-05-06T19:24:21.956965",
     "status": "completed"
    },
    "tags": []
   },
   "source": [
    "## Step 4: Make Predictions\n",
    "Make predictions with the model's `predict` command using `X` as the data. Save the results to a variable called `predictions`."
   ]
  },
  {
   "cell_type": "code",
   "execution_count": 11,
   "id": "d6e01973",
   "metadata": {
    "execution": {
     "iopub.execute_input": "2022-05-06T19:24:22.037430Z",
     "iopub.status.busy": "2022-05-06T19:24:22.036850Z",
     "iopub.status.idle": "2022-05-06T19:24:22.045213Z",
     "shell.execute_reply": "2022-05-06T19:24:22.044049Z"
    },
    "papermill": {
     "duration": 0.038811,
     "end_time": "2022-05-06T19:24:22.047267",
     "exception": false,
     "start_time": "2022-05-06T19:24:22.008456",
     "status": "completed"
    },
    "tags": []
   },
   "outputs": [
    {
     "name": "stdout",
     "output_type": "stream",
     "text": [
      "<learntools.core.constants.PlaceholderValue object at 0x7fa8be59e290>\n"
     ]
    },
    {
     "data": {
      "application/javascript": [
       "parent.postMessage({\"jupyterEvent\": \"custom.exercise_interaction\", \"data\": {\"outcomeType\": 4, \"interactionType\": 1, \"questionType\": 2, \"questionId\": \"4_MakePredictions\", \"learnToolsVersion\": \"0.3.4\", \"valueTowardsCompletion\": 0.0, \"failureMessage\": \"\", \"exceptionClass\": \"\", \"trace\": \"\"}}, \"*\")"
      ],
      "text/plain": [
       "<IPython.core.display.Javascript object>"
      ]
     },
     "metadata": {},
     "output_type": "display_data"
    },
    {
     "data": {
      "text/markdown": [
       "<span style=\"color:#ccaa33\">Check:</span> When you've updated the starter code, `check()` will tell you whether your code is correct. You need to update the code that creates variables `predictions`, `iowa_model`, `X`"
      ],
      "text/plain": [
       "Check: When you've updated the starter code, `check()` will tell you whether your code is correct. You need to update the code that creates variables `predictions`, `iowa_model`, `X`"
      ]
     },
     "metadata": {},
     "output_type": "display_data"
    }
   ],
   "source": [
    "predictions = ____\n",
    "print(predictions)\n",
    "\n",
    "# Check your answer\n",
    "step_4.check()"
   ]
  },
  {
   "cell_type": "code",
   "execution_count": 12,
   "id": "aaadb73b",
   "metadata": {
    "execution": {
     "iopub.execute_input": "2022-05-06T19:24:22.106195Z",
     "iopub.status.busy": "2022-05-06T19:24:22.105610Z",
     "iopub.status.idle": "2022-05-06T19:24:22.109793Z",
     "shell.execute_reply": "2022-05-06T19:24:22.108958Z"
    },
    "papermill": {
     "duration": 0.036758,
     "end_time": "2022-05-06T19:24:22.111962",
     "exception": false,
     "start_time": "2022-05-06T19:24:22.075204",
     "status": "completed"
    },
    "tags": []
   },
   "outputs": [],
   "source": [
    "# step_4.hint()\n",
    "# step_4.solution()"
   ]
  },
  {
   "cell_type": "markdown",
   "id": "d735eb88",
   "metadata": {
    "papermill": {
     "duration": 0.027682,
     "end_time": "2022-05-06T19:24:22.167637",
     "exception": false,
     "start_time": "2022-05-06T19:24:22.139955",
     "status": "completed"
    },
    "tags": []
   },
   "source": [
    "## Think About Your Results\n",
    "\n",
    "Use the `head` method to compare the top few predictions to the actual home values (in `y`) for those same homes. Anything surprising?\n"
   ]
  },
  {
   "cell_type": "code",
   "execution_count": 13,
   "id": "b5da6c90",
   "metadata": {
    "execution": {
     "iopub.execute_input": "2022-05-06T19:24:22.225466Z",
     "iopub.status.busy": "2022-05-06T19:24:22.225182Z",
     "iopub.status.idle": "2022-05-06T19:24:22.229521Z",
     "shell.execute_reply": "2022-05-06T19:24:22.228333Z"
    },
    "papermill": {
     "duration": 0.035663,
     "end_time": "2022-05-06T19:24:22.231596",
     "exception": false,
     "start_time": "2022-05-06T19:24:22.195933",
     "status": "completed"
    },
    "tags": []
   },
   "outputs": [],
   "source": [
    "# You can write code in this cell\n"
   ]
  },
  {
   "cell_type": "markdown",
   "id": "a777cbd3",
   "metadata": {
    "papermill": {
     "duration": 0.027837,
     "end_time": "2022-05-06T19:24:22.287799",
     "exception": false,
     "start_time": "2022-05-06T19:24:22.259962",
     "status": "completed"
    },
    "tags": []
   },
   "source": [
    "It's natural to ask how accurate the model's predictions will be and how you can improve that. That will be you're next step.\n",
    "\n",
    "# Keep Going\n",
    "\n",
    "You are ready for **[Model Validation](https://www.kaggle.com/dansbecker/model-validation).**\n"
   ]
  },
  {
   "cell_type": "markdown",
   "id": "3661668d",
   "metadata": {
    "papermill": {
     "duration": 0.027601,
     "end_time": "2022-05-06T19:24:22.344099",
     "exception": false,
     "start_time": "2022-05-06T19:24:22.316498",
     "status": "completed"
    },
    "tags": []
   },
   "source": [
    "---\n",
    "\n",
    "\n",
    "\n",
    "\n",
    "*Have questions or comments? Visit the [course discussion forum](https://www.kaggle.com/learn/intro-to-machine-learning/discussion) to chat with other learners.*"
   ]
  }
 ],
 "metadata": {
  "kernelspec": {
   "display_name": "Python 3",
   "language": "python",
   "name": "python3"
  },
  "language_info": {
   "codemirror_mode": {
    "name": "ipython",
    "version": 3
   },
   "file_extension": ".py",
   "mimetype": "text/x-python",
   "name": "python",
   "nbconvert_exporter": "python",
   "pygments_lexer": "ipython3",
   "version": "3.7.12"
  },
  "papermill": {
   "default_parameters": {},
   "duration": 14.508435,
   "end_time": "2022-05-06T19:24:23.093614",
   "environment_variables": {},
   "exception": null,
   "input_path": "__notebook__.ipynb",
   "output_path": "__notebook__.ipynb",
   "parameters": {},
   "start_time": "2022-05-06T19:24:08.585179",
   "version": "2.3.4"
  }
 },
 "nbformat": 4,
 "nbformat_minor": 5
}
