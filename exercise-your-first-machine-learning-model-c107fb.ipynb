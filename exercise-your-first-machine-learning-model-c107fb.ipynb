{
 "cells": [
  {
   "cell_type": "markdown",
   "id": "7a955db1",
   "metadata": {
    "papermill": {
     "duration": 0.022434,
     "end_time": "2022-05-06T19:28:13.121499",
     "exception": false,
     "start_time": "2022-05-06T19:28:13.099065",
     "status": "completed"
    },
    "tags": []
   },
   "source": [
    "**This notebook is an exercise in the [Introduction to Machine Learning](https://www.kaggle.com/learn/intro-to-machine-learning) course.  You can reference the tutorial at [this link](https://www.kaggle.com/dansbecker/your-first-machine-learning-model).**\n",
    "\n",
    "---\n"
   ]
  },
  {
   "cell_type": "markdown",
   "id": "6e395a9b",
   "metadata": {
    "papermill": {
     "duration": 0.019925,
     "end_time": "2022-05-06T19:28:13.161830",
     "exception": false,
     "start_time": "2022-05-06T19:28:13.141905",
     "status": "completed"
    },
    "tags": []
   },
   "source": [
    "## Recap\n",
    "So far, you have loaded your data and reviewed it with the following code. Run this cell to set up your coding environment where the previous step left off."
   ]
  },
  {
   "cell_type": "code",
   "execution_count": 1,
   "id": "b4d6b09d",
   "metadata": {
    "execution": {
     "iopub.execute_input": "2022-05-06T19:28:13.204147Z",
     "iopub.status.busy": "2022-05-06T19:28:13.203825Z",
     "iopub.status.idle": "2022-05-06T19:28:14.466989Z",
     "shell.execute_reply": "2022-05-06T19:28:14.465724Z"
    },
    "papermill": {
     "duration": 1.288826,
     "end_time": "2022-05-06T19:28:14.471015",
     "exception": false,
     "start_time": "2022-05-06T19:28:13.182189",
     "status": "completed"
    },
    "tags": []
   },
   "outputs": [
    {
     "name": "stdout",
     "output_type": "stream",
     "text": [
      "Setup Complete\n"
     ]
    }
   ],
   "source": [
    "# Code you have previously used to load data\n",
    "import pandas as pd\n",
    "\n",
    "# Path of the file to read\n",
    "iowa_file_path = '../input/home-data-for-ml-course/train.csv'\n",
    "\n",
    "home_data = pd.read_csv(iowa_file_path)\n",
    "\n",
    "# Set up code checking\n",
    "from learntools.core import binder\n",
    "binder.bind(globals())\n",
    "from learntools.machine_learning.ex3 import *\n",
    "\n",
    "print(\"Setup Complete\")"
   ]
  },
  {
   "cell_type": "markdown",
   "id": "0752657f",
   "metadata": {
    "papermill": {
     "duration": 0.020194,
     "end_time": "2022-05-06T19:28:14.513067",
     "exception": false,
     "start_time": "2022-05-06T19:28:14.492873",
     "status": "completed"
    },
    "tags": []
   },
   "source": [
    "# Exercises\n",
    "\n",
    "## Step 1: Specify Prediction Target\n",
    "Select the target variable, which corresponds to the sales price. Save this to a new variable called `y`. You'll need to print a list of the columns to find the name of the column you need.\n"
   ]
  },
  {
   "cell_type": "code",
   "execution_count": 2,
   "id": "59aaa7d0",
   "metadata": {
    "execution": {
     "iopub.execute_input": "2022-05-06T19:28:14.556115Z",
     "iopub.status.busy": "2022-05-06T19:28:14.555540Z",
     "iopub.status.idle": "2022-05-06T19:28:14.561413Z",
     "shell.execute_reply": "2022-05-06T19:28:14.560630Z"
    },
    "papermill": {
     "duration": 0.029842,
     "end_time": "2022-05-06T19:28:14.563380",
     "exception": false,
     "start_time": "2022-05-06T19:28:14.533538",
     "status": "completed"
    },
    "tags": []
   },
   "outputs": [
    {
     "name": "stdout",
     "output_type": "stream",
     "text": [
      "Index(['Id', 'MSSubClass', 'MSZoning', 'LotFrontage', 'LotArea', 'Street',\n",
      "       'Alley', 'LotShape', 'LandContour', 'Utilities', 'LotConfig',\n",
      "       'LandSlope', 'Neighborhood', 'Condition1', 'Condition2', 'BldgType',\n",
      "       'HouseStyle', 'OverallQual', 'OverallCond', 'YearBuilt', 'YearRemodAdd',\n",
      "       'RoofStyle', 'RoofMatl', 'Exterior1st', 'Exterior2nd', 'MasVnrType',\n",
      "       'MasVnrArea', 'ExterQual', 'ExterCond', 'Foundation', 'BsmtQual',\n",
      "       'BsmtCond', 'BsmtExposure', 'BsmtFinType1', 'BsmtFinSF1',\n",
      "       'BsmtFinType2', 'BsmtFinSF2', 'BsmtUnfSF', 'TotalBsmtSF', 'Heating',\n",
      "       'HeatingQC', 'CentralAir', 'Electrical', '1stFlrSF', '2ndFlrSF',\n",
      "       'LowQualFinSF', 'GrLivArea', 'BsmtFullBath', 'BsmtHalfBath', 'FullBath',\n",
      "       'HalfBath', 'BedroomAbvGr', 'KitchenAbvGr', 'KitchenQual',\n",
      "       'TotRmsAbvGrd', 'Functional', 'Fireplaces', 'FireplaceQu', 'GarageType',\n",
      "       'GarageYrBlt', 'GarageFinish', 'GarageCars', 'GarageArea', 'GarageQual',\n",
      "       'GarageCond', 'PavedDrive', 'WoodDeckSF', 'OpenPorchSF',\n",
      "       'EnclosedPorch', '3SsnPorch', 'ScreenPorch', 'PoolArea', 'PoolQC',\n",
      "       'Fence', 'MiscFeature', 'MiscVal', 'MoSold', 'YrSold', 'SaleType',\n",
      "       'SaleCondition', 'SalePrice'],\n",
      "      dtype='object')\n"
     ]
    }
   ],
   "source": [
    "# print the list of columns in the dataset to find the name of the prediction target\n",
    "home_data_columns = home_data.columns\n",
    "print(home_data_columns)"
   ]
  },
  {
   "cell_type": "code",
   "execution_count": 3,
   "id": "7265ce8e",
   "metadata": {
    "execution": {
     "iopub.execute_input": "2022-05-06T19:28:14.606850Z",
     "iopub.status.busy": "2022-05-06T19:28:14.606530Z",
     "iopub.status.idle": "2022-05-06T19:28:14.624156Z",
     "shell.execute_reply": "2022-05-06T19:28:14.623095Z"
    },
    "papermill": {
     "duration": 0.041946,
     "end_time": "2022-05-06T19:28:14.626299",
     "exception": false,
     "start_time": "2022-05-06T19:28:14.584353",
     "status": "completed"
    },
    "tags": []
   },
   "outputs": [
    {
     "data": {
      "text/html": [
       "<div>\n",
       "<style scoped>\n",
       "    .dataframe tbody tr th:only-of-type {\n",
       "        vertical-align: middle;\n",
       "    }\n",
       "\n",
       "    .dataframe tbody tr th {\n",
       "        vertical-align: top;\n",
       "    }\n",
       "\n",
       "    .dataframe thead th {\n",
       "        text-align: right;\n",
       "    }\n",
       "</style>\n",
       "<table border=\"1\" class=\"dataframe\">\n",
       "  <thead>\n",
       "    <tr style=\"text-align: right;\">\n",
       "      <th></th>\n",
       "      <th>0</th>\n",
       "    </tr>\n",
       "  </thead>\n",
       "  <tbody>\n",
       "    <tr>\n",
       "      <th>0</th>\n",
       "      <td>Id</td>\n",
       "    </tr>\n",
       "    <tr>\n",
       "      <th>1</th>\n",
       "      <td>MSSubClass</td>\n",
       "    </tr>\n",
       "    <tr>\n",
       "      <th>2</th>\n",
       "      <td>MSZoning</td>\n",
       "    </tr>\n",
       "    <tr>\n",
       "      <th>3</th>\n",
       "      <td>LotFrontage</td>\n",
       "    </tr>\n",
       "    <tr>\n",
       "      <th>4</th>\n",
       "      <td>LotArea</td>\n",
       "    </tr>\n",
       "    <tr>\n",
       "      <th>...</th>\n",
       "      <td>...</td>\n",
       "    </tr>\n",
       "    <tr>\n",
       "      <th>76</th>\n",
       "      <td>MoSold</td>\n",
       "    </tr>\n",
       "    <tr>\n",
       "      <th>77</th>\n",
       "      <td>YrSold</td>\n",
       "    </tr>\n",
       "    <tr>\n",
       "      <th>78</th>\n",
       "      <td>SaleType</td>\n",
       "    </tr>\n",
       "    <tr>\n",
       "      <th>79</th>\n",
       "      <td>SaleCondition</td>\n",
       "    </tr>\n",
       "    <tr>\n",
       "      <th>80</th>\n",
       "      <td>SalePrice</td>\n",
       "    </tr>\n",
       "  </tbody>\n",
       "</table>\n",
       "<p>81 rows × 1 columns</p>\n",
       "</div>"
      ],
      "text/plain": [
       "                0\n",
       "0              Id\n",
       "1      MSSubClass\n",
       "2        MSZoning\n",
       "3     LotFrontage\n",
       "4         LotArea\n",
       "..            ...\n",
       "76         MoSold\n",
       "77         YrSold\n",
       "78       SaleType\n",
       "79  SaleCondition\n",
       "80      SalePrice\n",
       "\n",
       "[81 rows x 1 columns]"
      ]
     },
     "execution_count": 3,
     "metadata": {},
     "output_type": "execute_result"
    }
   ],
   "source": [
    "home_data_columns_df = pd.DataFrame(home_data_columns)\n",
    "home_data_columns_df"
   ]
  },
  {
   "cell_type": "code",
   "execution_count": 4,
   "id": "0799fc2f",
   "metadata": {
    "execution": {
     "iopub.execute_input": "2022-05-06T19:28:14.671688Z",
     "iopub.status.busy": "2022-05-06T19:28:14.671143Z",
     "iopub.status.idle": "2022-05-06T19:28:14.683933Z",
     "shell.execute_reply": "2022-05-06T19:28:14.682985Z"
    },
    "papermill": {
     "duration": 0.037747,
     "end_time": "2022-05-06T19:28:14.685876",
     "exception": false,
     "start_time": "2022-05-06T19:28:14.648129",
     "status": "completed"
    },
    "tags": []
   },
   "outputs": [
    {
     "data": {
      "application/javascript": [
       "parent.postMessage({\"jupyterEvent\": \"custom.exercise_interaction\", \"data\": {\"outcomeType\": 1, \"valueTowardsCompletion\": 0.25, \"interactionType\": 1, \"questionType\": 2, \"questionId\": \"1_SetTarget\", \"learnToolsVersion\": \"0.3.4\", \"failureMessage\": \"\", \"exceptionClass\": \"\", \"trace\": \"\"}}, \"*\")"
      ],
      "text/plain": [
       "<IPython.core.display.Javascript object>"
      ]
     },
     "metadata": {},
     "output_type": "display_data"
    },
    {
     "data": {
      "text/markdown": [
       "<span style=\"color:#33cc33\">Correct</span>"
      ],
      "text/plain": [
       "Correct"
      ]
     },
     "metadata": {},
     "output_type": "display_data"
    }
   ],
   "source": [
    "y = home_data['SalePrice']\n",
    "   \n",
    "\n",
    "# Check your answer\n",
    "step_1.check()"
   ]
  },
  {
   "cell_type": "code",
   "execution_count": 5,
   "id": "915fd7a6",
   "metadata": {
    "execution": {
     "iopub.execute_input": "2022-05-06T19:28:14.734008Z",
     "iopub.status.busy": "2022-05-06T19:28:14.733521Z",
     "iopub.status.idle": "2022-05-06T19:28:14.737094Z",
     "shell.execute_reply": "2022-05-06T19:28:14.736516Z"
    },
    "papermill": {
     "duration": 0.030243,
     "end_time": "2022-05-06T19:28:14.738877",
     "exception": false,
     "start_time": "2022-05-06T19:28:14.708634",
     "status": "completed"
    },
    "tags": []
   },
   "outputs": [],
   "source": [
    "# The lines below will show you a hint or the solution.\n",
    "#step_1.hint() \n",
    "# step_1.solution()"
   ]
  },
  {
   "cell_type": "markdown",
   "id": "95d39825",
   "metadata": {
    "papermill": {
     "duration": 0.024167,
     "end_time": "2022-05-06T19:28:14.785903",
     "exception": false,
     "start_time": "2022-05-06T19:28:14.761736",
     "status": "completed"
    },
    "tags": []
   },
   "source": [
    "## Step 2: Create X\n",
    "Now you will create a DataFrame called `X` holding the predictive features.\n",
    "\n",
    "Since you want only some columns from the original data, you'll first create a list with the names of the columns you want in `X`.\n",
    "\n",
    "You'll use just the following columns in the list (you can copy and paste the whole list to save some typing, though you'll still need to add quotes):\n",
    "  * LotArea\n",
    "  * YearBuilt\n",
    "  * 1stFlrSF\n",
    "  * 2ndFlrSF\n",
    "  * FullBath\n",
    "  * BedroomAbvGr\n",
    "  * TotRmsAbvGrd\n",
    "\n",
    "After you've created that list of features, use it to create the DataFrame that you'll use to fit the model."
   ]
  },
  {
   "cell_type": "code",
   "execution_count": 6,
   "id": "53a2629b",
   "metadata": {
    "execution": {
     "iopub.execute_input": "2022-05-06T19:28:14.833022Z",
     "iopub.status.busy": "2022-05-06T19:28:14.832482Z",
     "iopub.status.idle": "2022-05-06T19:28:14.846282Z",
     "shell.execute_reply": "2022-05-06T19:28:14.845670Z"
    },
    "papermill": {
     "duration": 0.039272,
     "end_time": "2022-05-06T19:28:14.848177",
     "exception": false,
     "start_time": "2022-05-06T19:28:14.808905",
     "status": "completed"
    },
    "tags": []
   },
   "outputs": [
    {
     "data": {
      "application/javascript": [
       "parent.postMessage({\"jupyterEvent\": \"custom.exercise_interaction\", \"data\": {\"outcomeType\": 1, \"valueTowardsCompletion\": 0.25, \"interactionType\": 1, \"questionType\": 2, \"questionId\": \"2_SelectPredictionData\", \"learnToolsVersion\": \"0.3.4\", \"failureMessage\": \"\", \"exceptionClass\": \"\", \"trace\": \"\"}}, \"*\")"
      ],
      "text/plain": [
       "<IPython.core.display.Javascript object>"
      ]
     },
     "metadata": {},
     "output_type": "display_data"
    },
    {
     "data": {
      "text/markdown": [
       "<span style=\"color:#33cc33\">Correct</span>"
      ],
      "text/plain": [
       "Correct"
      ]
     },
     "metadata": {},
     "output_type": "display_data"
    }
   ],
   "source": [
    "# Create the list of features below\n",
    "feature_names = [\"LotArea\", \"YearBuilt\", \"1stFlrSF\", \"2ndFlrSF\", \"FullBath\", \"BedroomAbvGr\", \"TotRmsAbvGrd\"]\n",
    "\n",
    "# Select data corresponding to features in feature_names\n",
    "X = home_data[feature_names]\n",
    "\n",
    "# Check your answer\n",
    "step_2.check()"
   ]
  },
  {
   "cell_type": "code",
   "execution_count": 7,
   "id": "359e445d",
   "metadata": {
    "execution": {
     "iopub.execute_input": "2022-05-06T19:28:14.899585Z",
     "iopub.status.busy": "2022-05-06T19:28:14.899134Z",
     "iopub.status.idle": "2022-05-06T19:28:14.902102Z",
     "shell.execute_reply": "2022-05-06T19:28:14.901383Z"
    },
    "papermill": {
     "duration": 0.030788,
     "end_time": "2022-05-06T19:28:14.904036",
     "exception": false,
     "start_time": "2022-05-06T19:28:14.873248",
     "status": "completed"
    },
    "tags": []
   },
   "outputs": [],
   "source": [
    "#step_2.hint()\n",
    "#step_2.solution()"
   ]
  },
  {
   "cell_type": "markdown",
   "id": "9db05f60",
   "metadata": {
    "papermill": {
     "duration": 0.024862,
     "end_time": "2022-05-06T19:28:14.953024",
     "exception": false,
     "start_time": "2022-05-06T19:28:14.928162",
     "status": "completed"
    },
    "tags": []
   },
   "source": [
    "## Review Data\n",
    "Before building a model, take a quick look at **X** to verify it looks sensible"
   ]
  },
  {
   "cell_type": "code",
   "execution_count": 8,
   "id": "31dc01ad",
   "metadata": {
    "execution": {
     "iopub.execute_input": "2022-05-06T19:28:15.003331Z",
     "iopub.status.busy": "2022-05-06T19:28:15.003036Z",
     "iopub.status.idle": "2022-05-06T19:28:15.010966Z",
     "shell.execute_reply": "2022-05-06T19:28:15.010171Z"
    },
    "papermill": {
     "duration": 0.035836,
     "end_time": "2022-05-06T19:28:15.013206",
     "exception": false,
     "start_time": "2022-05-06T19:28:14.977370",
     "status": "completed"
    },
    "tags": []
   },
   "outputs": [
    {
     "name": "stdout",
     "output_type": "stream",
     "text": [
      "      LotArea  YearBuilt  1stFlrSF  2ndFlrSF  FullBath  BedroomAbvGr  \\\n",
      "0        8450       2003       856       854         2             3   \n",
      "1        9600       1976      1262         0         2             3   \n",
      "2       11250       2001       920       866         2             3   \n",
      "3        9550       1915       961       756         1             3   \n",
      "4       14260       2000      1145      1053         2             4   \n",
      "...       ...        ...       ...       ...       ...           ...   \n",
      "1455     7917       1999       953       694         2             3   \n",
      "1456    13175       1978      2073         0         2             3   \n",
      "1457     9042       1941      1188      1152         2             4   \n",
      "1458     9717       1950      1078         0         1             2   \n",
      "1459     9937       1965      1256         0         1             3   \n",
      "\n",
      "      TotRmsAbvGrd  \n",
      "0                8  \n",
      "1                6  \n",
      "2                6  \n",
      "3                7  \n",
      "4                9  \n",
      "...            ...  \n",
      "1455             7  \n",
      "1456             7  \n",
      "1457             9  \n",
      "1458             5  \n",
      "1459             6  \n",
      "\n",
      "[1460 rows x 7 columns]\n"
     ]
    }
   ],
   "source": [
    "# Review data\n",
    "# print description or statistics from X\n",
    "print(X)\n",
    "\n",
    "# print the top few lines\n",
    "#print(X).head()"
   ]
  },
  {
   "cell_type": "markdown",
   "id": "72ffcd61",
   "metadata": {
    "papermill": {
     "duration": 0.024014,
     "end_time": "2022-05-06T19:28:15.061766",
     "exception": false,
     "start_time": "2022-05-06T19:28:15.037752",
     "status": "completed"
    },
    "tags": []
   },
   "source": [
    "## Step 3: Specify and Fit Model\n",
    "Create a `DecisionTreeRegressor` and save it iowa_model. Ensure you've done the relevant import from sklearn to run this command.\n",
    "\n",
    "Then fit the model you just created using the data in `X` and `y` that you saved above."
   ]
  },
  {
   "cell_type": "code",
   "execution_count": 9,
   "id": "87cb95e4",
   "metadata": {
    "execution": {
     "iopub.execute_input": "2022-05-06T19:28:15.112166Z",
     "iopub.status.busy": "2022-05-06T19:28:15.111386Z",
     "iopub.status.idle": "2022-05-06T19:28:15.129336Z",
     "shell.execute_reply": "2022-05-06T19:28:15.128426Z"
    },
    "papermill": {
     "duration": 0.04535,
     "end_time": "2022-05-06T19:28:15.131341",
     "exception": false,
     "start_time": "2022-05-06T19:28:15.085991",
     "status": "completed"
    },
    "tags": []
   },
   "outputs": [
    {
     "data": {
      "application/javascript": [
       "parent.postMessage({\"jupyterEvent\": \"custom.exercise_interaction\", \"data\": {\"outcomeType\": 1, \"valueTowardsCompletion\": 0.25, \"interactionType\": 1, \"questionType\": 2, \"questionId\": \"3_CreateModel\", \"learnToolsVersion\": \"0.3.4\", \"failureMessage\": \"\", \"exceptionClass\": \"\", \"trace\": \"\"}}, \"*\")"
      ],
      "text/plain": [
       "<IPython.core.display.Javascript object>"
      ]
     },
     "metadata": {},
     "output_type": "display_data"
    },
    {
     "data": {
      "text/markdown": [
       "<span style=\"color:#33cc33\">Correct</span>"
      ],
      "text/plain": [
       "Correct"
      ]
     },
     "metadata": {},
     "output_type": "display_data"
    }
   ],
   "source": [
    "from sklearn.tree import DecisionTreeRegressor\n",
    "#specify the model. \n",
    "#For model reproducibility, set a numeric value for random_state when specifying the model\n",
    "iowa_model = DecisionTreeRegressor(random_state=1)\n",
    "\n",
    "#Fit the model\n",
    "iowa_model.fit(X,y)\n",
    "____\n",
    "\n",
    "# Check your answer\n",
    "step_3.check()"
   ]
  },
  {
   "cell_type": "code",
   "execution_count": 10,
   "id": "ae1bfafa",
   "metadata": {
    "execution": {
     "iopub.execute_input": "2022-05-06T19:28:15.184876Z",
     "iopub.status.busy": "2022-05-06T19:28:15.184097Z",
     "iopub.status.idle": "2022-05-06T19:28:15.188243Z",
     "shell.execute_reply": "2022-05-06T19:28:15.187373Z"
    },
    "papermill": {
     "duration": 0.033458,
     "end_time": "2022-05-06T19:28:15.190418",
     "exception": false,
     "start_time": "2022-05-06T19:28:15.156960",
     "status": "completed"
    },
    "tags": []
   },
   "outputs": [],
   "source": [
    "#step_3.hint()\n",
    "#step_3.solution()"
   ]
  },
  {
   "cell_type": "markdown",
   "id": "efe35fed",
   "metadata": {
    "papermill": {
     "duration": 0.025557,
     "end_time": "2022-05-06T19:28:15.242778",
     "exception": false,
     "start_time": "2022-05-06T19:28:15.217221",
     "status": "completed"
    },
    "tags": []
   },
   "source": [
    "## Step 4: Make Predictions\n",
    "Make predictions with the model's `predict` command using `X` as the data. Save the results to a variable called `predictions`."
   ]
  },
  {
   "cell_type": "code",
   "execution_count": 11,
   "id": "2671cf37",
   "metadata": {
    "execution": {
     "iopub.execute_input": "2022-05-06T19:28:15.295820Z",
     "iopub.status.busy": "2022-05-06T19:28:15.295492Z",
     "iopub.status.idle": "2022-05-06T19:28:15.308891Z",
     "shell.execute_reply": "2022-05-06T19:28:15.307903Z"
    },
    "papermill": {
     "duration": 0.042626,
     "end_time": "2022-05-06T19:28:15.311174",
     "exception": false,
     "start_time": "2022-05-06T19:28:15.268548",
     "status": "completed"
    },
    "tags": []
   },
   "outputs": [
    {
     "name": "stdout",
     "output_type": "stream",
     "text": [
      "[208500. 181500. 223500. ... 266500. 142125. 147500.]\n"
     ]
    },
    {
     "data": {
      "application/javascript": [
       "parent.postMessage({\"jupyterEvent\": \"custom.exercise_interaction\", \"data\": {\"outcomeType\": 1, \"valueTowardsCompletion\": 0.25, \"interactionType\": 1, \"questionType\": 2, \"questionId\": \"4_MakePredictions\", \"learnToolsVersion\": \"0.3.4\", \"failureMessage\": \"\", \"exceptionClass\": \"\", \"trace\": \"\"}}, \"*\")"
      ],
      "text/plain": [
       "<IPython.core.display.Javascript object>"
      ]
     },
     "metadata": {},
     "output_type": "display_data"
    },
    {
     "data": {
      "text/markdown": [
       "<span style=\"color:#33cc33\">Correct</span>"
      ],
      "text/plain": [
       "Correct"
      ]
     },
     "metadata": {},
     "output_type": "display_data"
    }
   ],
   "source": [
    "predictions = iowa_model.predict(X)\n",
    "print(predictions)\n",
    "\n",
    "# Check your answer\n",
    "step_4.check()"
   ]
  },
  {
   "cell_type": "code",
   "execution_count": 12,
   "id": "a9f9c372",
   "metadata": {
    "execution": {
     "iopub.execute_input": "2022-05-06T19:28:15.367213Z",
     "iopub.status.busy": "2022-05-06T19:28:15.366781Z",
     "iopub.status.idle": "2022-05-06T19:28:15.370532Z",
     "shell.execute_reply": "2022-05-06T19:28:15.369756Z"
    },
    "papermill": {
     "duration": 0.033816,
     "end_time": "2022-05-06T19:28:15.372549",
     "exception": false,
     "start_time": "2022-05-06T19:28:15.338733",
     "status": "completed"
    },
    "tags": []
   },
   "outputs": [],
   "source": [
    "# step_4.hint()\n",
    "# step_4.solution()"
   ]
  },
  {
   "cell_type": "markdown",
   "id": "a6b153e2",
   "metadata": {
    "papermill": {
     "duration": 0.026869,
     "end_time": "2022-05-06T19:28:15.426707",
     "exception": false,
     "start_time": "2022-05-06T19:28:15.399838",
     "status": "completed"
    },
    "tags": []
   },
   "source": [
    "## Think About Your Results\n",
    "\n",
    "Use the `head` method to compare the top few predictions to the actual home values (in `y`) for those same homes. Anything surprising?\n"
   ]
  },
  {
   "cell_type": "code",
   "execution_count": 13,
   "id": "49e25f59",
   "metadata": {
    "execution": {
     "iopub.execute_input": "2022-05-06T19:28:15.483146Z",
     "iopub.status.busy": "2022-05-06T19:28:15.482631Z",
     "iopub.status.idle": "2022-05-06T19:28:15.489341Z",
     "shell.execute_reply": "2022-05-06T19:28:15.487986Z"
    },
    "papermill": {
     "duration": 0.037681,
     "end_time": "2022-05-06T19:28:15.491739",
     "exception": false,
     "start_time": "2022-05-06T19:28:15.454058",
     "status": "completed"
    },
    "tags": []
   },
   "outputs": [
    {
     "name": "stdout",
     "output_type": "stream",
     "text": [
      "0       208500\n",
      "1       181500\n",
      "2       223500\n",
      "3       140000\n",
      "4       250000\n",
      "         ...  \n",
      "1455    175000\n",
      "1456    210000\n",
      "1457    266500\n",
      "1458    142125\n",
      "1459    147500\n",
      "Name: SalePrice, Length: 1460, dtype: int64\n",
      "[208500. 181500. 223500. ... 266500. 142125. 147500.]\n"
     ]
    }
   ],
   "source": [
    "# You can write code in this cell\n",
    "print(y)\n",
    "print(predictions)"
   ]
  },
  {
   "cell_type": "code",
   "execution_count": null,
   "id": "c93ed6ec",
   "metadata": {
    "papermill": {
     "duration": 0.027414,
     "end_time": "2022-05-06T19:28:15.547129",
     "exception": false,
     "start_time": "2022-05-06T19:28:15.519715",
     "status": "completed"
    },
    "tags": []
   },
   "outputs": [],
   "source": []
  },
  {
   "cell_type": "markdown",
   "id": "d68a5901",
   "metadata": {
    "papermill": {
     "duration": 0.027329,
     "end_time": "2022-05-06T19:28:15.602332",
     "exception": false,
     "start_time": "2022-05-06T19:28:15.575003",
     "status": "completed"
    },
    "tags": []
   },
   "source": [
    "It's natural to ask how accurate the model's predictions will be and how you can improve that. That will be you're next step.\n",
    "\n",
    "# Keep Going\n",
    "\n",
    "You are ready for **[Model Validation](https://www.kaggle.com/dansbecker/model-validation).**\n"
   ]
  },
  {
   "cell_type": "markdown",
   "id": "fd99aff7",
   "metadata": {
    "papermill": {
     "duration": 0.028428,
     "end_time": "2022-05-06T19:28:15.658475",
     "exception": false,
     "start_time": "2022-05-06T19:28:15.630047",
     "status": "completed"
    },
    "tags": []
   },
   "source": [
    "---\n",
    "\n",
    "\n",
    "\n",
    "\n",
    "*Have questions or comments? Visit the [course discussion forum](https://www.kaggle.com/learn/intro-to-machine-learning/discussion) to chat with other learners.*"
   ]
  }
 ],
 "metadata": {
  "kernelspec": {
   "display_name": "Python 3",
   "language": "python",
   "name": "python3"
  },
  "language_info": {
   "codemirror_mode": {
    "name": "ipython",
    "version": 3
   },
   "file_extension": ".py",
   "mimetype": "text/x-python",
   "name": "python",
   "nbconvert_exporter": "python",
   "pygments_lexer": "ipython3",
   "version": "3.7.12"
  },
  "papermill": {
   "default_parameters": {},
   "duration": 13.351458,
   "end_time": "2022-05-06T19:28:16.407617",
   "environment_variables": {},
   "exception": null,
   "input_path": "__notebook__.ipynb",
   "output_path": "__notebook__.ipynb",
   "parameters": {},
   "start_time": "2022-05-06T19:28:03.056159",
   "version": "2.3.4"
  }
 },
 "nbformat": 4,
 "nbformat_minor": 5
}
